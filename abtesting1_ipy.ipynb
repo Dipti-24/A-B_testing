{
  "nbformat": 4,
  "nbformat_minor": 0,
  "metadata": {
    "colab": {
      "provenance": []
    },
    "kernelspec": {
      "name": "python3",
      "display_name": "Python 3"
    },
    "language_info": {
      "name": "python"
    }
  },
  "cells": [
    {
      "cell_type": "markdown",
      "source": [
        "Summary:\n",
        "T-statistic: Measures the difference between the two groups relative to the variability in the data.\n",
        "P-value: If the p-value is less than your significance level (e.g., 0.05), reject the null hypothesis and conclude there is a significant difference between the groups.\n",
        "\n",
        "If you have binary data (e.g., 1 for converted, 0 for not converted), you can use a chi-squared test or logistic regression instead of the t-test."
      ],
      "metadata": {
        "id": "KnwZH6gi-lYm"
      }
    },
    {
      "cell_type": "code",
      "execution_count": 2,
      "metadata": {
        "colab": {
          "base_uri": "https://localhost:8080/"
        },
        "id": "O8WCgRcU-QXu",
        "outputId": "891bc289-96b4-409b-b7f5-a8a914d0ea35"
      },
      "outputs": [
        {
          "output_type": "stream",
          "name": "stdout",
          "text": [
            "Group A Mean: 220.0\n",
            "Group B Mean: 191.0\n",
            "T-statistic: 3.040026026493563\n",
            "P-value: 0.016062653749956673\n",
            "Reject the null hypothesis (Significant difference).\n"
          ]
        }
      ],
      "source": [
        "# Import necessary libraries\n",
        "import numpy as np\n",
        "import scipy.stats as stats\n",
        "\n",
        "# Sample data for Group A and Group B (conversion rates or any other metric)\n",
        "group_a = np.array([200, 220, 210, 230, 240])  # group_a and group_b arrays can represent the number of conversions (e.g., purchases, clicks) during the test period\n",
        "group_b = np.array([180, 190, 175, 200, 210])  #\n",
        "\n",
        "# Compute the means of both groups\n",
        "mean_a = np.mean(group_a)\n",
        "mean_b = np.mean(group_b)\n",
        "\n",
        "# Perform a two-sample t-test assuming equal variance\n",
        "t_stat, p_value = stats.ttest_ind(group_a, group_b)\n",
        "\n",
        "# Print results\n",
        "print(f\"Group A Mean: {mean_a}\")\n",
        "print(f\"Group B Mean: {mean_b}\")\n",
        "print(f\"T-statistic: {t_stat}\")\n",
        "print(f\"P-value: {p_value}\")\n",
        "\n",
        "# Interpret the p-value\n",
        "alpha = 0.05  # significance level\n",
        "\n",
        "if p_value < alpha:\n",
        "    print(\"Reject the null hypothesis (Significant difference).\")\n",
        "else:\n",
        "    print(\"Fail to reject the null hypothesis (No significant difference).\")\n"
      ]
    }
  ]
}